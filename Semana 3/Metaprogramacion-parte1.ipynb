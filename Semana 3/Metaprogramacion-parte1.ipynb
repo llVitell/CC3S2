{
 "cells": [
  {
   "cell_type": "markdown",
   "id": "d0a78870",
   "metadata": {},
   "source": [
    "### Herencia, modulos y mixins\n",
    "\n",
    "Hemos visto que cuando el método `puts` necesita convertir un objeto en una cadena, llama al método `to_s` de ese objeto. Pero también hemos escrito  clases que no implementan explícitamente `to_s`. \n",
    "\n",
    "A pesar de esto, las instancias de estas clases responden exitosamente cuando llamamos a `to_s` en ellas. Cómo funciona esto tiene que ver con la herencia y cómo Ruby usa la herencia para determinar qué método ejecutar cuando envías un mensaje a un objeto. \n",
    "\n",
    "La herencia te permite crear una clase que es un refinamiento o especialización de otra clase. Esta clase especializada se denomina `subclase` de la original y la original es una `superclase` de la subclase. La gente también se refiere a esta relación como clases de padres e hijos."
   ]
  },
  {
   "cell_type": "code",
   "execution_count": 1,
   "id": "b9622ef8",
   "metadata": {},
   "outputs": [
    {
     "name": "stdout",
     "output_type": "stream",
     "text": [
      "Hola a  #<#<Class:0x0000022d29c1e938>::Padre:0x0000022d2951c810>\n",
      "Hola a  #<#<Class:0x0000022d29c1e938>::Hijo:0x0000022d29517c70>\n"
     ]
    }
   ],
   "source": [
    "class Padre\n",
    "  def say_hello\n",
    "    puts \"Hola a  #{self}\"\n",
    "  end\n",
    "end\n",
    "p = Padre.new\n",
    "p.say_hello\n",
    "\n",
    "class  Hijo < Padre # < less than\n",
    "end\n",
    "c = Hijo.new\n",
    "c.say_hello"
   ]
  },
  {
   "cell_type": "markdown",
   "id": "8def77df",
   "metadata": {},
   "source": [
    "**Pregunta:** Realiza una explicación del código anterior."
   ]
  },
  {
   "cell_type": "code",
   "execution_count": null,
   "id": "b251754c",
   "metadata": {},
   "outputs": [],
   "source": [
    "Se crea el objeto p \"Padre\" el cual será Padre de la clase Hijo, heredando su método \"say_hello\""
   ]
  },
  {
   "cell_type": "markdown",
   "id": "892699ff",
   "metadata": {},
   "source": [
    "El método `superclass` devuelve el padre de una clase particular. "
   ]
  },
  {
   "cell_type": "code",
   "execution_count": 2,
   "id": "a31d1214",
   "metadata": {},
   "outputs": [
    {
     "data": {
      "text/plain": [
       "#<Class:0x0000022d29c1e938>::Padre"
      ]
     },
     "execution_count": 2,
     "metadata": {},
     "output_type": "execute_result"
    }
   ],
   "source": [
    "class Padre\n",
    "end\n",
    "\n",
    "class Hijo < Padre\n",
    "end\n",
    "Hijo.superclass"
   ]
  },
  {
   "cell_type": "markdown",
   "id": "254975d1",
   "metadata": {},
   "source": [
    "Pero, ¿cuál es la superclase de `Padre`?"
   ]
  },
  {
   "cell_type": "code",
   "execution_count": 3,
   "id": "9a1634d5",
   "metadata": {},
   "outputs": [
    {
     "data": {
      "text/plain": [
       "Object"
      ]
     },
     "execution_count": 3,
     "metadata": {},
     "output_type": "execute_result"
    }
   ],
   "source": [
    "class Padre\n",
    "end\n",
    "Padre.superclass"
   ]
  },
  {
   "cell_type": "markdown",
   "id": "c7fa4bc6",
   "metadata": {},
   "source": [
    "Si no defines una superclase explícita al definir una clase, Ruby usa automáticamente la clase incorporada `Object` como padre de la clase. Vayamos más allá:"
   ]
  },
  {
   "cell_type": "code",
   "execution_count": 4,
   "id": "eb603ddd",
   "metadata": {},
   "outputs": [
    {
     "data": {
      "text/plain": [
       "BasicObject"
      ]
     },
     "execution_count": 4,
     "metadata": {},
     "output_type": "execute_result"
    }
   ],
   "source": [
    "Object.superclass"
   ]
  },
  {
   "cell_type": "markdown",
   "id": "5c65c663",
   "metadata": {},
   "source": [
    "La clase `BasicObject` es un objeto muy, muy mínimo que se utiliza en ciertos tipos de metaprogramación. ¿Cuál es su padre?"
   ]
  },
  {
   "cell_type": "code",
   "execution_count": 6,
   "id": "16c7c725",
   "metadata": {},
   "outputs": [],
   "source": [
    "BasicObject.superclass # => nil"
   ]
  },
  {
   "cell_type": "markdown",
   "id": "5f4b88a2-e989-49ce-b463-6a12513ddecd",
   "metadata": {},
   "source": [
    "Podemos descubrir por qué `to_s` está disponible en casi todos los objetos de Ruby. Resulta que `to_s` está definido en la clase `Object`.  Debido a que `Object` es un ancestro de todas las clases de Ruby excepto `BasicObject`, las instancias de cada clase de Ruby tienen un método `to_s` definido:"
   ]
  },
  {
   "cell_type": "code",
   "execution_count": null,
   "id": "9caef683",
   "metadata": {},
   "outputs": [],
   "source": [
    "class Persona\n",
    "  def initialize(nombre)\n",
    "    @nombre = nombre\n",
    "  end\n",
    "end\n",
    "p = Persona.new(\"Chalo\")\n",
    "puts p"
   ]
  },
  {
   "cell_type": "markdown",
   "id": "8848ee7f",
   "metadata": {},
   "source": [
    "Podemos sobreescribir  el método `to_s`:"
   ]
  },
  {
   "cell_type": "code",
   "execution_count": 11,
   "id": "b148e267",
   "metadata": {},
   "outputs": [
    {
     "name": "stdout",
     "output_type": "stream",
     "text": [
      "Persona llamada Omar\n"
     ]
    }
   ],
   "source": [
    "class Persona\n",
    "    def initialize(nombre)\n",
    "        @nombre = nombre\n",
    "    end\n",
    "\n",
    "    def to_s\n",
    "        \"Persona llamada #{@nombre}\"\n",
    "    end\n",
    "end\n",
    "\n",
    "p = Persona.new(\"Omar\")\n",
    "puts p"
   ]
  },
  {
   "cell_type": "markdown",
   "id": "c3a315af",
   "metadata": {},
   "source": [
    "#### Ejemplo \n",
    "Imagina que estás trabajando en una aplicación de seguimiento de tareas. Una tarea puede estar en uno de varios estados: puede estar terminada, puede estar iniciada pero incompleta o puede estar definida pero no iniciada. Puede haber otros estados, pero sólo esos tres probablemente sean suficientes para dejar claro el punto. \n",
    "\n",
    "Si estás escribiendo código que interactúa con las tareas de este sistema, probablemente tendrás que tener en cuenta el estado de una tarea en tu código. En otras palabras, es probable que siempre escribas código como este: "
   ]
  },
  {
   "cell_type": "code",
   "execution_count": 13,
   "id": "232a7a33",
   "metadata": {},
   "outputs": [
    {
     "data": {
      "text/plain": [
       ":cadena_estados"
      ]
     },
     "execution_count": 13,
     "metadata": {},
     "output_type": "execute_result"
    }
   ],
   "source": [
    "def cadena_estados(tarea)\n",
    "  case tareas.status\n",
    "  when \"realizado\" then \"Lo he realizado\"\n",
    "  when \"iniciado\" then \"no lo he realizado\"\n",
    "  when \"no iniciado\" then \"ni siquiera he empezado\"\n",
    "  end\n",
    "end"
   ]
  },
  {
   "cell_type": "markdown",
   "id": "580fa86c",
   "metadata": {},
   "source": [
    "Y estarias cambiando continuamente el estado de una tarea. Esta es una forma de duplicación: si la lista de estados cambia, sería necesario actualizar cada una de estas declaraciones `if` o `case` y  por lo tanto, parece que vale la pena intentar reducir la cantidad de veces que utilizamos esa lógica de conmutación. \n",
    "\n",
    "Podemos usar la herencia para crear una jerarquía de clases de estado y luego realizar la lógica de cambio solo una vez:"
   ]
  },
  {
   "cell_type": "code",
   "execution_count": 31,
   "id": "56a11dc2",
   "metadata": {},
   "outputs": [
    {
     "name": "stdout",
     "output_type": "stream",
     "text": [
      "Realizado\n",
      "Iniciado\n",
      "Definido\n"
     ]
    }
   ],
   "source": [
    "class Estado\n",
    "    def self.for(estado)\n",
    "        case estado\n",
    "        when \"realizado\" then Realizado.new()\n",
    "        when \"iniciado\" then Iniciado.new()\n",
    "        when \"no iniciado\" then Definido.new()\n",
    "        end\n",
    "    end\n",
    "\n",
    "    def done? = false\n",
    "    def cadena_estados = raise NotImplementedError\n",
    "end\n",
    "\n",
    "class Realizado < Estado\n",
    "    def to_s = \"Realizado\"\n",
    "    def done? = true\n",
    "    def cadena_estados = \"Yo soy yo\"\n",
    "end\n",
    "\n",
    "class Iniciado < Estado\n",
    "    def to_s = \"Iniciado\"\n",
    "    def done? = true\n",
    "    def cadena_estados = \"Yo soy yo\"\n",
    "end\n",
    "\n",
    "class Definido < Estado\n",
    "    def to_s = \"Definido\"\n",
    "    def done? = true\n",
    "    def cadena_estados = \"Yo soy yo\"\n",
    "end\n",
    "\n",
    "mensaje1 = Realizado.new(\"\")\n",
    "mensaje2 = Iniciado.new(\"\")\n",
    "mensaje3 = Definido.new(\"\")\n",
    "puts mensaje1, mensaje2, mensaje3"
   ]
  },
  {
   "cell_type": "markdown",
   "id": "b0c72274",
   "metadata": {},
   "source": [
    "Es un modismo común cuando se utilizan subclases. Una clase principal asume que será subclasificada y llama a un método que espera que sus hijos implementen. Esto permite al padre asumir la peor parte del procesamiento, pero invocar lo que efectivamente son métodos de enlace en subclases para agregar funcionalidad a nivel de aplicación.  \n",
    "\n",
    "Entonces, en lugar de eso, están los **mixins**, una forma diferente de compartir funcionalidad en el código Ruby. "
   ]
  },
  {
   "cell_type": "markdown",
   "id": "c0ba8d36",
   "metadata": {},
   "source": [
    "### Módulos y espacio de nombres\n",
    "\n",
    "Los módulos son una forma de agrupar métodos, clases y constantes. Los módulos te brindan dos beneficios principales: \n",
    "\n",
    "- Los módulos proporcionan un espacio de nombres y evitan conflictos de nombres. \n",
    "\n",
    "- Los módulos se pueden incluir en otras clases, una facilidad conocida como mixin. \n",
    "\n",
    "Los módulos definen un espacio de nombres, una zona de pruebas en la que los métodos y constantes pueden jugar sin tener que preocuparse de que otros métodos y constantes los molesten. \n",
    "\n",
    "Veamos los siguientes ejemplos."
   ]
  },
  {
   "cell_type": "code",
   "execution_count": null,
   "id": "ed240d98",
   "metadata": {},
   "outputs": [],
   "source": [
    "module Trig\n",
    "  PI = 3.141592654\n",
    "  def self.sin(x) # Sin hace referencia a la funcion trigonometrica\n",
    "    # ..\n",
    "  end\n",
    "  def self.cos(x)\n",
    "    # ..\n",
    "  end\n",
    "end"
   ]
  },
  {
   "cell_type": "code",
   "execution_count": null,
   "id": "3ade22e1",
   "metadata": {},
   "outputs": [],
   "source": [
    "module Moral\n",
    "  MUY_MALO= 0\n",
    "  MALO = 1\n",
    "  def self.sin(maldad) # Acá hace referencia a la palabra \"Pecado\"\n",
    "  # ...\n",
    "  end\n",
    "end"
   ]
  },
  {
   "cell_type": "markdown",
   "id": "57908d43",
   "metadata": {},
   "source": [
    "Los nombres de los módulos son como los nombres de las clases, ambos son constantes globales con una letra mayúscula inicial. Las definiciones de sus métodos también son similares: los métodos de los módulos se definen igual que los métodos de clase, utilizando la sintaxis `def self.method_name`. \n",
    "\n",
    "Si un tercer programa quiere usar estos módulos, simplemente puedes cargar los dos archivos (usando la instrucción `require` o `require_relative` de Ruby). "
   ]
  },
  {
   "cell_type": "code",
   "execution_count": null,
   "id": "42274a46",
   "metadata": {},
   "outputs": [],
   "source": [
    "#require_relative \"trig\"\n",
    "#require_relative \"moral\"\n",
    "#y = Trig.sin(Trig::PI / 4)\n",
    "#haciendolo_mal = Moral.sin(Moral::MUY_MALO)"
   ]
  },
  {
   "cell_type": "markdown",
   "id": "9003d1ce",
   "metadata": {},
   "source": [
    "**Ejercicio:** Comprueba estos ejemplos."
   ]
  },
  {
   "cell_type": "code",
   "execution_count": null,
   "id": "7eeef0a8",
   "metadata": {},
   "outputs": [],
   "source": [
    "# Tu respuesta"
   ]
  },
  {
   "cell_type": "markdown",
   "id": "47aeaf34",
   "metadata": {},
   "source": [
    "Al igual que con los métodos de clase, se llama a un método de módulo precediendo su nombre con el nombre del módulo y un punto. Como resultado, ahora se puede acceder a un método como `Trig.sin` y el otro es `Moral.sin` y los nombres ya no entran en conflicto. \n",
    "\n",
    "Se hace referencia a las constantes del módulo utilizando el nombre del módulo seguido de dos dos puntos, lo que se denomina operador de resolución de alcance, por lo que en este ejemplo, `Trig::PI` y `Moral::MUY_MALO`. "
   ]
  },
  {
   "cell_type": "markdown",
   "id": "b289ce6c",
   "metadata": {},
   "source": [
    "### Mixins\n",
    "\n",
    "Los módulos tienen otro uso maravilloso. Pueden proporcionar una alternativa a la herencia como forma de ampliar las clases. Esta instalación a veces se denomina **mixin**. Los mixins permiten algo muy parecido a la herencia múltiple en otros lenguajes. \n",
    " "
   ]
  },
  {
   "cell_type": "code",
   "execution_count": 32,
   "id": "11a9ae39",
   "metadata": {},
   "outputs": [
    {
     "data": {
      "text/plain": [
       "\"#<Class:0x0000022d29c1e938>::Fonografo (id: 1740): West End Blues\""
      ]
     },
     "execution_count": 32,
     "metadata": {},
     "output_type": "execute_result"
    }
   ],
   "source": [
    "module Debug\n",
    "  def quien_soy?\n",
    "    \"#{self.class.name} (id: #{self.object_id}): #{self.name}\"\n",
    "  end\n",
    "end\n",
    "\n",
    "class Fonografo\n",
    "  include Debug\n",
    "  attr_reader :name\n",
    "\n",
    "  def initialize(nombre)\n",
    "    @name = nombre\n",
    "  end\n",
    "# ...\n",
    "end\n",
    "\n",
    "class OchoPistas\n",
    "  include Debug\n",
    "  attr_reader :name\n",
    "\n",
    "  def initialize(nombre)\n",
    "    @name = nombre\n",
    "  end\n",
    "# ...\n",
    "end\n",
    "\n",
    "fonografo = Fonografo.new(\"West End Blues\")\n",
    "ocho_pistas = OchoPistas.new(\"Surrealistic Pillow\")\n",
    "fonografo.quien_soy?\n"
   ]
  },
  {
   "cell_type": "markdown",
   "id": "32221e9c",
   "metadata": {},
   "source": [
    "**Pregunta**: Realiza una explicación del código anterior."
   ]
  },
  {
   "cell_type": "code",
   "execution_count": null,
   "id": "dcba1d69",
   "metadata": {},
   "outputs": [],
   "source": [
    "Se incluye el modulo debug en las clases OchoPistas y Fonografo de tal manera que se puede usar el método \"quiensoy?\""
   ]
  },
  {
   "cell_type": "markdown",
   "id": "53bdf677",
   "metadata": {},
   "source": [
    "Mixins te brinda una forma controlada de agregar funcionalidad a las clases. Sin embargo, su verdadero poder surge cuando el código en el mixin puede hacer suposiciones sobre el código de la clase que lo usa y luego puede interactuar con ese código. \n",
    "\n",
    "Ruby utiliza ampliamente el comportamiento mixin en la biblioteca estándar. Muchos de los comportamientos que hemos visto que están disponibles para todos los objetos en realidad están definidos en un módulo llamado `Kernel` que está incluido en `Object` y por tanto en todos los objetos. Métodos como `puts`, `p`, `lambda`, `proc` y muchos más se agregan a los objetos mediante el comportamiento mixin. "
   ]
  },
  {
   "cell_type": "markdown",
   "id": "f7153215",
   "metadata": {},
   "source": [
    "#### Módulo Comparable\n",
    "\n",
    "El módulo estándar de Ruby `Comparable` es otro gran ejemplo de mixin, pero hace una suposición sobre las clases que lo usan. Incluir `Comparable` como mixin agrega los operadores de comparación (`<, <=, ==, >=` y `>`), así como el método `between?` a una clase. Para que estos métodos funcionen, `Comparable` supone que cualquier clase que los utilice define el método `<=>`. \n",
    "\n",
    "Como programador, puedes definir un método  `<=>` incluir `Comparable` y obtener seis funciones de comparación. \n",
    "\n",
    "Tomemos una clase `Persona`. Haremos que las personas sean comparables según sus nombres: "
   ]
  },
  {
   "cell_type": "code",
   "execution_count": 45,
   "id": "0d65e8bc",
   "metadata": {},
   "outputs": [
    {
     "ename": "NoMethodError",
     "evalue": "undefined method `>' for #<#<Class:0x0000022d29c1e938>::Persona:0x0000022d2a784d90 @nombre=\"M\">",
     "output_type": "error",
     "traceback": [
      "\u001b[31mNoMethodError\u001b[0m: undefined method `>' for #<#<Class:0x0000022d29c1e938>::Persona:0x0000022d2a784d90 @nombre=\"M\">",
      "(irb):20:in `<top (required)>'"
     ]
    }
   ],
   "source": [
    "class Person\n",
    "  include Comparable\n",
    "  attr_reader :name\n",
    "  def initialize(name)\n",
    "    @name = name\n",
    "  end\n",
    "\n",
    "  def to_s\n",
    "    \"#{@name}\"\n",
    "  end\n",
    "    \n",
    "  def<=>(other)\n",
    "    self.name <=> other.name\n",
    "  end\n",
    "end\n",
    "\n",
    "p1 = Persona.new(\"M\")\n",
    "p2 = Persona.new(\"G\")\n",
    "p3 = Persona.new(\"L\")\n",
    "\n",
    "if p1 > p2\n",
    "    puts \"nombre #{p1.name} > nombre #{p2.name}\"\n",
    "end\n",
    "\n",
    "puts \"Lista ordenada:\"\n",
    "puts [p1,p2,p3].sort"
   ]
  },
  {
   "cell_type": "markdown",
   "id": "db343492",
   "metadata": {},
   "source": [
    "Incluimos `Comparable` en la clase `Persona` y luego definimos un método `<=>`. Luego pudimos realizar comparaciones (como `p1 > p2`) e incluso ordenar una serie de objetos `Persona`."
   ]
  },
  {
   "cell_type": "markdown",
   "id": "7545b502",
   "metadata": {},
   "source": [
    "### Herencia y mixins\n",
    "\n",
    "Algunos lenguajes orientados a objetos (como C++ o Python) admiten herencia múltiple, donde una clase puede tener más de un padre inmediato, heredando la funcionalidad de cada uno. Aunque poderosa, esta técnica puede ser peligrosa porque la jerarquía de herencia puede volverse ambigua.\n",
    "\n",
    "Otros lenguajes, como Java, JavaScript y C#, admiten herencia única. Aquí, una clase sólo puede tener un padre inmediato. Aunque es más limpia (y más fácil de implementar), la herencia única también tiene desventajas: en el mundo real, los objetos a menudo heredan atributos de múltiples fuentes.\n",
    "\n",
    "Ruby ofrece un compromiso interesante, brindando la simplicidad de la herencia única y el poder de la herencia múltiple. Una clase Ruby tiene solo un padre directo, por lo que Ruby es un lenguaje de herencia único. Sin embargo, las clases de Ruby pueden incluir la funcionalidad de cualquier número de mixins (un mixin es como una definición de clase parcial). Esto proporciona una capacidad controlada similar a la herencia múltiple sin ninguno de los inconvenientes."
   ]
  },
  {
   "cell_type": "markdown",
   "id": "9ba13058",
   "metadata": {},
   "source": [
    "#### extend y prepend\n",
    "\n",
    "Ruby proporciona dos mecanismos para mezclar el comportamiento del módulo que están relacionados a `include` pero combinan el módulo y la clase de manera diferente. El comportamiento de `include` es agregar los métodos del módulo como métodos de instancia a la clase en la que se incluye el módulo, y hacer que esos métodos del módulo se busquen después de que se verifique la clase misma en busca de un método.\n",
    "\n",
    "Ruby también proporciona `extend`. El comportamiento de `extend` es agregar los métodos directamente al receptor de `extend` en lugar de hacerlo como métodos de instancia de una clase. El efecto de `extend` es agregar los métodos del módulo como métodos de clase.\n",
    "\n",
    "Ruby también proporciona `prepend`. El comportamiento de `prepend` es el mismo que `include` excepto que un método en un módulo `prepend` se ejecuta antes que un método del mismo nombre en la clase. Normalmente, el método del módulo `prepend` llama a `super` para que también se llame al método de la clase. \n",
    "\n",
    "Los `prepend` se utilizan a menudo para agregar registros u otra información logística a las clases.\n",
    "\n",
    "**Revisa:** https://docs.ruby-lang.org/en/3.2/Module.html."
   ]
  },
  {
   "cell_type": "markdown",
   "id": "08d3bee5",
   "metadata": {},
   "source": [
    "## Metaprogramación\n",
    "\n",
    "La programación se trata de construir capas de abstracciones. A medida que resuelves problemas, estás construyendo puentes desde el implacable y mecánico mundo del silicio hasta el mundo más ambiguo y fluido que habitamos. Algunos lenguajes de programación, como C, están cerca de la máquina. La distancia entre el código C y el dominio de la aplicación puede ser grande.\n",
    "\n",
    "Otros lenguajes (tal vez Ruby) proporcionan abstracciones de nivel superior y, por lo tanto, te permiten comenzar a codificar más cerca del dominio de aplicación. Por esta razón, la mayoría de la gente considera que un lenguaje de nivel superior es un mejor punto de partida para el desarrollo de aplicaciones.\n",
    "\n",
    "Pero cuando realiza una metaprogramación, ya no estás limitado al conjunto de abstracciones integradas en tu lenguaje de programación. En su lugar, puedes crear nuevas abstracciones que se integran en el lenguaje anfitrión. De hecho, estás creando un nuevo lenguaje de programación de dominio específico, uno que te permite expresar los conceptos que necesitas para resolver tu problema particular."
   ]
  },
  {
   "cell_type": "markdown",
   "id": "98e94910",
   "metadata": {},
   "source": [
    "#### Objetos y clases\n",
    "\n",
    "Internamente, un objeto Ruby tiene tres componentes: un conjunto de indicadores, algunas variables de instancia y una clase asociada. \n",
    "Una clase Ruby contiene todas las cosas que tiene un objeto más un conjunto de definiciones de métodos y una referencia a una superclase (que es en sí misma otra clase). (Una clase Ruby es en sí misma una instancia de la clase `Class`). \n",
    "\n",
    "Veamos cómo esa estructura se presta a la metaprogramación en Ruby. "
   ]
  },
  {
   "cell_type": "markdown",
   "id": "32335745",
   "metadata": {},
   "source": [
    " ### Llamadas a métodos y 'self' \n",
    " \n",
    "Ruby tiene un concepto del objeto actual. La variable incorporada de solo lectura `self` hace referencia a este objeto actual.\n",
    "\n",
    "El valor del `self`  tiene dos roles importantes en un programa Ruby en ejecución. Primero, `self`  controla automáticamente cómo Ruby encuentra variables de instancia. \n",
    "\n",
    "En segundo lugar, `self` juega un papel vital en la llamada al método. En Ruby, cada llamada a un método es un mensaje que se pasa a algún objeto. Este objeto se llama `receptor` de la llamada. Cuando se realiza una llamada como `items.size`, el objeto en el lado izquierdo del punto (aquí al que hace referencia la variable `items`) es el receptor y `size` es el método a invocar. \n",
    "\n",
    "Cuando se realiza una llamada a un método con un receptor explícito (por ejemplo, invocando `items.size`), el valor de `self` cambia durante la duración de la llamada. Antes de iniciar el proceso de búsqueda de métodos, Ruby configura a `sef` como el receptor explícito (el objeto al que hacen referencia los elementos en este caso). Luego, después de que regresa la llamada, Ruby se restaura `self` al valor que tenía antes de la llamada. \n",
    "\n",
    "Veamos cómo funciona esto en la práctica. Aquí tienes un programa sencillo "
   ]
  },
  {
   "cell_type": "code",
   "execution_count": null,
   "id": "3835772f",
   "metadata": {},
   "outputs": [],
   "source": [
    "class Test\n",
    "  def one\n",
    "    @var = 99\n",
    "    two\n",
    "  end\n",
    "  def two\n",
    "    puts @var\n",
    "  end\n",
    "end\n",
    "\n",
    "t = Test.new\n",
    "t.one"
   ]
  },
  {
   "cell_type": "markdown",
   "id": "78a9a165",
   "metadata": {},
   "source": [
    "**Pregunta:** Realiza una explicación del código anterior."
   ]
  },
  {
   "cell_type": "code",
   "execution_count": null,
   "id": "47842b38",
   "metadata": {},
   "outputs": [],
   "source": [
    "# Tus respuestas."
   ]
  },
  {
   "cell_type": "markdown",
   "id": "6a53a322",
   "metadata": {},
   "source": [
    "### Definiciones de clases y self\n",
    "\n",
    "Hemos visto que llamar a un método con un receptor explícito cambia `self`. Quizás sea sorprendente que `self` también cambie dentro de una definición de clase o módulo. \n",
    "\n",
    "Esto es una consecuencia del hecho de que las definiciones de clases son en realidad código ejecutable en Ruby, si podemos ejecutar código, necesitamos tener un objeto actual.  "
   ]
  },
  {
   "cell_type": "code",
   "execution_count": null,
   "id": "a62782d8",
   "metadata": {},
   "outputs": [],
   "source": [
    "puts \"Antes de la deficion de clase\"\n",
    "puts \"self = #{self}\\n\"\n",
    "class Test\n",
    "puts \"En la definicion de clase\"\n",
    "puts \"self = #{self}\"\n",
    "puts \"Clase de self = #{self.class}\\n\"\n",
    "end\n",
    "puts \"Despues de la deficion de clase\"\n",
    "puts \"self = #{self}\""
   ]
  },
  {
   "cell_type": "markdown",
   "id": "f0fecff2",
   "metadata": {},
   "source": [
    "Dentro de una definición de clase o módulo, `self` se establece en el objeto de la clase o módulo que se define. Esto significa que las variables de instancia establecidas dentro de una definición de clase o módulo estarán disponibles para los métodos de clase o módulo (porque `self` será el mismo cuando se definan las variables y cuando se ejecuten los métodos): "
   ]
  },
  {
   "cell_type": "code",
   "execution_count": null,
   "id": "7a8381b0",
   "metadata": {},
   "outputs": [],
   "source": [
    "class Test\n",
    "  @var = 99\n",
    "  def self.valor_de_var\n",
    "    @var\n",
    "  end\n",
    "end\n",
    "Test.valor_de_var"
   ]
  },
  {
   "cell_type": "markdown",
   "id": "bb078b4f",
   "metadata": {},
   "source": [
    "El hecho de que `self` se establezca en la clase durante una definición de clase resulta ser una decisión espectacularmente elegante, pero para ver por qué, primero tendremos que echar un vistazo a los **singletons**."
   ]
  },
  {
   "cell_type": "markdown",
   "id": "27925083",
   "metadata": {},
   "source": [
    "### Definición de métodos singleton\n",
    "\n",
    "Ruby te permite definir métodos que son específicos de un objeto en particular. Estos se denominan métodos singleton.\n",
    "\n",
    "Aquí hay un objeto de cadena y una llamada a un método normal que no es singleton:"
   ]
  },
  {
   "cell_type": "code",
   "execution_count": null,
   "id": "a6892420",
   "metadata": {},
   "outputs": [],
   "source": [
    "animal = \"cat\"\n",
    "puts animal.upcase"
   ]
  },
  {
   "cell_type": "markdown",
   "id": "2b20850a",
   "metadata": {},
   "source": [
    "Esta llamada da como resultado la siguiente estructura de objetos_"
   ]
  },
  {
   "cell_type": "markdown",
   "id": "59f5b88c",
   "metadata": {},
   "source": [
    "<img src=\"Imagenes/Meta1.png\" alt=\"drawing\" width=\"600\"/>"
   ]
  },
  {
   "cell_type": "markdown",
   "id": "03dfdbfe",
   "metadata": {},
   "source": [
    "**Pregunta:** Explica que sucede en el gráfico anterior."
   ]
  },
  {
   "cell_type": "code",
   "execution_count": null,
   "id": "0abf848c",
   "metadata": {},
   "outputs": [],
   "source": [
    "# Tu respuesta"
   ]
  },
  {
   "cell_type": "markdown",
   "id": "51ba7d20",
   "metadata": {},
   "source": [
    "Definiremos un método singleton en la cadena a la que hace referencia `animal`."
   ]
  },
  {
   "cell_type": "code",
   "execution_count": null,
   "id": "4bbe359b",
   "metadata": {},
   "outputs": [],
   "source": [
    "animal = \"cat\"\n",
    "def animal.speak\n",
    "  puts \"El #{self} dice miaow\"\n",
    "end\n",
    "\n",
    "animal.speak\n",
    "puts animal.upcase"
   ]
  },
  {
   "cell_type": "markdown",
   "id": "1657e203",
   "metadata": {},
   "source": [
    "**Pregunta:** Explica que sucede en el código anterior."
   ]
  },
  {
   "cell_type": "code",
   "execution_count": null,
   "id": "d639bfdd",
   "metadata": {},
   "outputs": [],
   "source": [
    "# Tu respuesta"
   ]
  },
  {
   "cell_type": "markdown",
   "id": "141ad6e3",
   "metadata": {},
   "source": [
    "Cada objeto en Ruby tiene el potencial de tener su propia clase singleton. Cuando defines una clase singleton, Ruby crea esa clase anónima y la convierte en la clase singleton de ese objeto. Puedes acceder a esa clase singleton a través del método `singleton_class` y puede obtener una lista de métodos definidos allí con `singleton_methods`. "
   ]
  },
  {
   "cell_type": "code",
   "execution_count": null,
   "id": "e27a3a5d",
   "metadata": {},
   "outputs": [],
   "source": [
    "animal = \"cat\"\n",
    "def animal.speak\n",
    "  puts \"El #{self} dice miaow\"\n",
    "end\n",
    "\n",
    "animal.speak\n",
    "puts animal.class\n",
    "puts animal.singleton_class\n",
    "puts animal.singleton_methods"
   ]
  },
  {
   "cell_type": "markdown",
   "id": "b3750229",
   "metadata": {},
   "source": [
    "Si un objeto tiene una clase singleton, ese es el primer lugar donde Ruby busca objetos. Es como si Ruby hiciera de String (que era la clase original de \"cat\") la superclase de la clase singleton. La imagen se ve así:\n",
    "\n",
    "<img src=\"Imagenes/Meta2.png\" alt=\"drawing\" width=\"600\"/>"
   ]
  },
  {
   "cell_type": "markdown",
   "id": "83174e5e",
   "metadata": {},
   "source": [
    "**Pregunta:** Explica que sucede en el gráfico anterior."
   ]
  },
  {
   "cell_type": "code",
   "execution_count": null,
   "id": "0843a867",
   "metadata": {},
   "outputs": [],
   "source": [
    "# Tu respuesta"
   ]
  },
  {
   "cell_type": "markdown",
   "id": "e804319d",
   "metadata": {},
   "source": [
    "### Singletons y clases \n",
    "\n",
    "Anteriormente dijimos que dentro de una definición de clase, `self` se establece en el objeto de clase que se define. Resulta que esta es la base de uno de los aspectos más elegantes del modelo de objetos de Ruby. \n",
    "\n",
    "Recuerda que podemos definir métodos de clase en Ruby usando cualquiera de las formas `def self.xxx` o (más raramente) `def ClassName.xxx`: "
   ]
  },
  {
   "cell_type": "code",
   "execution_count": null,
   "id": "4fd5d2bb",
   "metadata": {},
   "outputs": [],
   "source": [
    "class Dave\n",
    "  def self.class_method_one\n",
    "    puts \"Metodo de clase 1\"\n",
    "  end\n",
    "  def Dave.class_method_two\n",
    "    puts \"Metodo de clase 2\"\n",
    "  end\n",
    "end\n",
    "\n",
    "Dave.class_method_one\n",
    "Dave.class_method_two"
   ]
  },
  {
   "cell_type": "markdown",
   "id": "c118a3f6",
   "metadata": {},
   "source": [
    "**Pregunta:** ¿por qué las dos formas son idénticas?"
   ]
  },
  {
   "cell_type": "code",
   "execution_count": null,
   "id": "85275fbc",
   "metadata": {},
   "outputs": [],
   "source": [
    "# Tu respuesta"
   ]
  },
  {
   "cell_type": "markdown",
   "id": "87551ee8",
   "metadata": {},
   "source": [
    "**Pregunta:** ¿que sucede en la siguiente situación?\n",
    "\n",
    "<img src=\"Imagenes/Meta3.png\" alt=\"drawing\" width=\"650\"/>"
   ]
  },
  {
   "cell_type": "code",
   "execution_count": null,
   "id": "f3cc88c2",
   "metadata": {},
   "outputs": [],
   "source": [
    "## Tu respuesta"
   ]
  },
  {
   "cell_type": "markdown",
   "id": "e416fd0f",
   "metadata": {},
   "source": [
    "**Pregunta**: ¿que sucede en la siguiente situación?\n",
    "\n",
    "<img src=\"Imagenes/Meta4.png\" alt=\"drawing\" width=\"650\"/>"
   ]
  },
  {
   "cell_type": "code",
   "execution_count": null,
   "id": "e920334c",
   "metadata": {},
   "outputs": [],
   "source": [
    "# Tu respuesta"
   ]
  },
  {
   "cell_type": "markdown",
   "id": "87ce59a4",
   "metadata": {},
   "source": [
    "Ahora podemos unir los dos usos de `self`, al objeto actual. Hablamos sobre cómo se buscan las variables de instancia en `self` y hablamos sobre cómo los métodos singleton definidos en `self` se convierten en métodos de clase. Usemos estos hechos para acceder a variables de instancia para objetos de clase:"
   ]
  },
  {
   "cell_type": "code",
   "execution_count": null,
   "id": "1f974f4c",
   "metadata": {},
   "outputs": [],
   "source": [
    "class Test\n",
    "  @var = 99\n",
    "  def self.var\n",
    "    @var\n",
    "  end\n",
    "  def self.var=(value)\n",
    "    @var = value\n",
    "  end\n",
    "end\n",
    "puts \"Valor original = #{Test.var}\"\n",
    "Test.var = \"cat\"\n",
    "puts \"Nuevo valor = #{Test.var}\""
   ]
  },
  {
   "cell_type": "markdown",
   "id": "f8222d0b",
   "metadata": {},
   "source": [
    "Ciertos programadores intentan establecer variables de instancia en la definición de clase (como hicimos con `@var` en el código anterior) y luego intentan acceder a estas variables desde métodos de instancia. Como ilustra el código, esto no funcionará porque las variables de instancia están asociadas con `self` en su contexto actual. \n",
    "\n",
    "En el contexto de las variables de instancia definidas en el cuerpo de la clase, `self` es la clase y por lo tanto, las variables de instancia definidas en el cuerpo de la clase fuera de los métodos están asociadas con el objeto de la clase, no con las instancias de la clase. "
   ]
  },
  {
   "cell_type": "markdown",
   "id": "132392a4",
   "metadata": {},
   "source": [
    "#### Módulos y mixins\n",
    "\n",
    "Sabes que cuando incluyes un módulo en una clase Ruby, los métodos de instancia de ese módulo quedan disponibles como métodos de instancia de la clase, así:\n"
   ]
  },
  {
   "cell_type": "code",
   "execution_count": null,
   "id": "0e6f3cdc",
   "metadata": {},
   "outputs": [],
   "source": [
    "module Logger\n",
    "  def log(msg)\n",
    "    STDERR.puts Time.now.strftime(\"%H:%M:%S: \") + \"#{self} (#{msg})\"\n",
    "  end\n",
    "end\n",
    "\n",
    "class Song\n",
    "  include Logger\n",
    "end\n",
    "\n",
    "s = Song.new\n",
    "s.log(\"creado\")"
   ]
  },
  {
   "cell_type": "markdown",
   "id": "6fb893b4",
   "metadata": {},
   "source": [
    "**Pregunta**: Explica que sucede en el código anterior."
   ]
  },
  {
   "cell_type": "code",
   "execution_count": null,
   "id": "cc1e1d59",
   "metadata": {},
   "outputs": [],
   "source": [
    "# Tu respuesta"
   ]
  },
  {
   "cell_type": "markdown",
   "id": "c3abfb0c",
   "metadata": {},
   "source": [
    "Ruby implementa  `include` de manera muy simple: el módulo que incluye se agrega como un antepasado de la clase que se está definiendo. Es como si el módulo fuera el padre de la clase en la que está mezclado. Y ese sería el final de la descripción excepto por una pequeña problema. Debido a que el módulo se inyecta en la cadena de superclases, él mismo debe mantener un vínculo con la clase principal original.\n",
    "\n",
    "Si no fuera así, no habría forma de atravesar la cadena de superclases para buscar métodos. Sin embargo, puedes mezclar el mismo módulo en muchas clases diferentes, y esas clases podrían tener cadenas de superclases totalmente diferentes. Si hubiera solo un objeto de módulo que mezcláramos con todas estas clases, no habría forma de realizar un seguimiento de las diferentes superclases para cada una.\n",
    "\n",
    "¿Qué hace Ruby en ese caso?."
   ]
  },
  {
   "cell_type": "code",
   "execution_count": null,
   "id": "742441ce",
   "metadata": {},
   "outputs": [],
   "source": []
  }
 ],
 "metadata": {
  "kernelspec": {
   "display_name": "Ruby 3.2.2",
   "language": "ruby",
   "name": "ruby"
  },
  "language_info": {
   "file_extension": ".rb",
   "mimetype": "application/x-ruby",
   "name": "ruby",
   "version": "3.2.2"
  }
 },
 "nbformat": 4,
 "nbformat_minor": 5
}
