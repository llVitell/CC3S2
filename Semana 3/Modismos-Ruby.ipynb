{
 "cells": [
  {
   "cell_type": "markdown",
   "id": "e4a48132",
   "metadata": {},
   "source": [
    "## Modismos en Ruby\n",
    "\n",
    "Un modismo de programación es una forma de hacer o expresar algo que ocurre con frecuencia en el código escrito por usuarios experimentados de un lenguaje de programación determinado. Si bien puede haber otras formas de realizar la misma tarea, la forma idiomática es la que revela más fácilmente la intención a otros usuarios experimentados del lenguaje. \n",
    "\n",
    "En esta sección exploramos algunos modismos clave de Ruby: duck typing, bloques, modo poetico,  modulos, mixins. \n",
    "\n",
    "\n"
   ]
  },
  {
   "cell_type": "markdown",
   "id": "c616ffd4",
   "metadata": {},
   "source": [
    "### Repaso de POO\n",
    "\n",
    "#### ¿Qué es un objeto?\n",
    "\n",
    "Un objeto es una forma de estructurar su código. Contiene dos cosas: datos (o propiedades) y lógica (o métodos). Puedes pensar en los objetos como piezas de funcionalidad autónomas que pueden comunicarse con otros objetos a través de mensajes.\n",
    "\n",
    "#### ¿Qué es una clase?\n",
    "\n",
    "Una clase es una forma sencilla de crear varios objetos del mismo tipo. Es como una plantilla.\n",
    "\n",
    "Por ejemplo, si tienes una clase `Car`, puedes crear un objeto Subaru o un objeto Mustang. Como puedes imaginar, estos dos objetos, aunque son automóviles, tienen propiedades ligeramente diferentes (por ejemplo, el Subaru puede ser azul mientras que el mustang puede ser rojo).\n",
    "\n",
    "\n"
   ]
  },
  {
   "cell_type": "markdown",
   "id": "26f18e3c",
   "metadata": {},
   "source": [
    "#### Encapsulación\n",
    "\n",
    "La encapsulación es un mecanismo para ocultar datos desde el exterior de un objeto. Es un concepto en el que los datos y los métodos que funcionan con esos datos se agrupan en una unidad."
   ]
  },
  {
   "cell_type": "code",
   "execution_count": 1,
   "id": "40844d6b",
   "metadata": {},
   "outputs": [
    {
     "ename": "NoMethodError",
     "evalue": "undefined method `nombre' for #<#<Class:0x000001e9db8be928>::Persona:0x000001e9db83d170 @nombre=\"Joe\">",
     "output_type": "error",
     "traceback": [
      "\u001b[31mNoMethodError\u001b[0m: undefined method `nombre' for #<#<Class:0x000001e9db8be928>::Persona:0x000001e9db83d170 @nombre=\"Joe\">",
      "(irb):6:in `<top (required)>'"
     ]
    }
   ],
   "source": [
    "class Persona\n",
    "  def initialize(nombre)\n",
    "    @nombre = nombre\n",
    "  end\n",
    "end\n",
    "\n",
    "Persona.new(\"Joe\").nombre\n",
    "# => NoMethodError (undefined method `nombre' for #<Persona:...>)\n"
   ]
  },
  {
   "cell_type": "markdown",
   "id": "4febc69d",
   "metadata": {},
   "source": [
    "En este ejemplo, los datos (la variable de instancia) son privados."
   ]
  },
  {
   "cell_type": "code",
   "execution_count": 2,
   "id": "94f220a4",
   "metadata": {},
   "outputs": [
    {
     "data": {
      "text/plain": [
       "\"Omar\""
      ]
     },
     "execution_count": 2,
     "metadata": {},
     "output_type": "execute_result"
    }
   ],
   "source": [
    "class Persona\n",
    "    def initialize(nombre)\n",
    "        @nombre = nombre\n",
    "    end\n",
    "\n",
    "    def nombre\n",
    "        @nombre\n",
    "    end\n",
    "end\n",
    "\n",
    "Persona.new(\"Omar\").nombre"
   ]
  },
  {
   "cell_type": "markdown",
   "id": "017d0d79",
   "metadata": {},
   "source": [
    "#### Herencia\n",
    "\n",
    "La herencia permite la reutilización del código al especificar rasgos comunes para diferentes objetos al definir una relación padre/hijo (o `is-a`).\n",
    "\n",
    "La clase que se utiliza como base para la herencia se denomina `superclase`, mientras que la clase que hereda de una superclase se denomina subclase o clase derivada, pero clase principal y clase secundaria también son términos aceptables.\n"
   ]
  },
  {
   "cell_type": "code",
   "execution_count": 8,
   "id": "35b58ee5",
   "metadata": {},
   "outputs": [
    {
     "data": {
      "text/plain": [
       "\"balo tiene 53 years\""
      ]
     },
     "execution_count": 8,
     "metadata": {},
     "output_type": "execute_result"
    }
   ],
   "source": [
    "class Persona\n",
    "  attr_reader :nombre, :edad\n",
    "\n",
    "  def initialize(nombre, edad)\n",
    "    @nombre = nombre\n",
    "    @edad = edad\n",
    "  end\n",
    "\n",
    "  def descripcion\n",
    "    nombre + \" tiene \" + edad.to_s + \" years\"\n",
    "  end\n",
    "end\n",
    "\n",
    "class Hijo < Persona\n",
    "  def initialize(nombre, edad, hobbies)\n",
    "    super(nombre, edad)\n",
    "    @hobbies = hobbies\n",
    "  end\n",
    "end\n",
    "\n",
    "class Padre < Persona\n",
    "  def initialize(nombre, edad, trabajo)\n",
    "    super(nombre, edad)\n",
    "    @trabajo = trabajo\n",
    "  end\n",
    "end\n",
    "\n",
    "# Completa\n",
    "vite = Hijo.new(\"omar\",19,[\"futbol\",\"programacion\"])\n",
    "vite.descripcion\n",
    "\n",
    "balo = Padre.new(\"balo\",53,\"Mecanico\")\n",
    "balo.descripcion"
   ]
  },
  {
   "cell_type": "markdown",
   "id": "b7102bfe",
   "metadata": {},
   "source": [
    "#### Polimorfismo\n",
    "\n",
    "Los métodos pueden comportarse de manera diferente según el tipo de objeto al que los invoca. En otras palabras, puede enviar el mismo mensaje a diferentes objetos y recibir datos diferentes.\n",
    "\n",
    "Una forma de lograr el polimorfismo es mediante el uso de la herencia.\n"
   ]
  },
  {
   "cell_type": "code",
   "execution_count": 13,
   "id": "74af0644",
   "metadata": {},
   "outputs": [
    {
     "ename": "ArgumentError",
     "evalue": "wrong number of arguments (given 1, expected 3)",
     "output_type": "error",
     "traceback": [
      "\u001b[31mArgumentError\u001b[0m: wrong number of arguments (given 1, expected 3)",
      "(irb):21:in `initialize'",
      "(irb):25:in `new'",
      "(irb):25:in `<top (required)>'"
     ]
    }
   ],
   "source": [
    "class Persona\n",
    "  def initialize(nombre)\n",
    "    @nombre = nombre\n",
    "  end\n",
    "\n",
    "  def mi_nombre\n",
    "    @nombre\n",
    "  end\n",
    "end\n",
    "\n",
    "class Hijo < Persona\n",
    "end\n",
    "\n",
    "class Padre < Persona\n",
    "  def mi_nombre\n",
    "    \"Mi nombre es #{@nombre}.\"\n",
    "  end\n",
    "end\n",
    "\n",
    "# Completa\n",
    "\n",
    "lupita = Hijo.new(\"lupita\")\n",
    "omar = Padre.new(\"omar\")\n",
    "[lupita,omar].each(&:mi_nombre)"
   ]
  },
  {
   "cell_type": "markdown",
   "id": "4017f175",
   "metadata": {},
   "source": [
    "Al llamar el mismo mensaje en diferentes tipos de objetos, puede tener un comportamiento diferente según el tipo de objeto.\n",
    "\n",
    "También puedes lograr polimorfismo en tiempo de ejecución mediante el **duck typing**.\n"
   ]
  },
  {
   "cell_type": "markdown",
   "id": "f867e19c",
   "metadata": {},
   "source": [
    "### Duck Typing\n",
    "\n",
    "Los términos polimorfismo y duck typing vienen ligados a la programación orientada a objetos y lenguajes con tipado dinámico, pero son frecuentemente confundidos . Veamos sus diferencias.\n",
    "\n",
    "**Polimorfismo**\n",
    "\n",
    "En el ámbito de la programación, el polimorfismo es un concepto que viene asociado a la programación orientada a objetos. Concretamente, significa que una subclase puede cambiar la implementación (o override) los métodos de la clase padre. Es decir, que un método de una clase hija puede tener un comportamiento diferente al de la clase padre.\n",
    "\n",
    "O visto de otra manera, una clase puede tomar diferentes formas, algo que es totalmente coherente con el origen de la palabra, polys (muchos) y morfo (formas).\n",
    "\n",
    "Veamos un ejemplo. Por un lado definimos una clase `Animal` con un método `hablar()` . El uso de `pass` simplemente significa que dejamos el método vacío."
   ]
  },
  {
   "cell_type": "code",
   "execution_count": null,
   "id": "64c55230",
   "metadata": {},
   "outputs": [],
   "source": [
    "class Animal:\n",
    "    def hablar(self):\n",
    "        pass"
   ]
  },
  {
   "cell_type": "markdown",
   "id": "88fdc952",
   "metadata": {},
   "source": [
    "Por otro lado tenemos otras tres clases, `Perro` `Gato` y `Vaca` que implementan el método anterior de manera distinta."
   ]
  },
  {
   "cell_type": "code",
   "execution_count": null,
   "id": "7a82b6eb",
   "metadata": {},
   "outputs": [],
   "source": [
    "class Perro(Animal):\n",
    "    def hablar(self):\n",
    "        print(\"Guau!\")\n",
    "\n",
    "class Gato(Animal):\n",
    "    def hablar(self):\n",
    "        print(\"Miau!\")\n",
    "\n",
    "class Vaca(Animal):\n",
    "    def hablar(self):\n",
    "        print(\"Muuu!\")"
   ]
  },
  {
   "cell_type": "markdown",
   "id": "95699925",
   "metadata": {},
   "source": [
    "Si ahora llamamos al método hablar de cada animal, podremos ver el resultado de las diferentes implementaciones."
   ]
  },
  {
   "cell_type": "code",
   "execution_count": 21,
   "id": "c8c6c6f4",
   "metadata": {},
   "outputs": [
    {
     "ename": "SyntaxError",
     "evalue": "(irb):1: syntax error, unexpected ':'\nclass Animal:\n            ^\n(irb):5: syntax error, unexpected `end'",
     "output_type": "error",
     "traceback": [
      "\u001b[31mSyntaxError\u001b[0m: (irb):1: syntax error, unexpected ':'\nclass Animal:\n            ^\n(irb):5: syntax error, unexpected `end'"
     ]
    }
   ],
   "source": [
    "## Completa\n",
    "animales = [Perro(),Gato(),Vaca()]\n",
    "for animal in animales:\n",
    "    animal.hablar\n",
    "end"
   ]
  },
  {
   "cell_type": "markdown",
   "id": "73ed7a06",
   "metadata": {},
   "source": [
    "Por otro lado, el concepto de **duck typing** se podría traducir al Español como el “tipado del pato”. Su origen viene de la siguiente frase: If it looks like a duck and quacks like a duck, it’s a duck. Es decir, que si algo se parece a un pato y grazna como un pato, entonces es un pato.\n",
    "\n",
    "Puede parecer un poco raro mezclar patos y programación, pero si cambiamos los patos por clases y parecerse/granzar por métodos, podemos ver el símil en Python.\n",
    "\n",
    "Nos viene a decir que no importa el tipo del objeto para invocar a un determinado método, basta con que esté definido. Si algo se parece, anda y grazna como un pato, ¿no dirías a caso que se trata de un pato? El razonamiento inductivo nos dice que sí, y es como funcionan en gran medida nuestros razonamientos.\n",
    "\n",
    "En realidad, la única forma de estar realmente seguros sería pidiendo un test de ADN del pato, algo tal vez no muy fácil.\n",
    "\n",
    "Pero volvamos a Python. En el siguiente ejemplo tenemos tres clases distintas sin herencia de por medio. Todas tienen codificado el método `hablar()` así que a Python le da igual el tipo al que pertenezcan."
   ]
  },
  {
   "cell_type": "code",
   "execution_count": 24,
   "id": "55608008",
   "metadata": {},
   "outputs": [
    {
     "ename": "SyntaxError",
     "evalue": "(irb):1: syntax error, unexpected `self', expecting ')'\n    def hablar(self):\n               ^~~~\n(irb):4: class definition in method body\nclass Gato:\n^~~~~~~~~~\n(irb):4: syntax error, unexpected ':'\nclass Gato:\n          ^\n(irb):8: class definition in method body\nclass Vaca:\n^~~~~~~~~~\n(irb):8: syntax error, unexpected ':'\nclass Vaca:\n          ^\n(irb):12: syntax error, unexpected ',', expecting `do' for condition or ';' or '\\n'\nfor animal in Perro(), Gato(), Vaca():\n                     ^\n",
     "output_type": "error",
     "traceback": [
      "\u001b[31mSyntaxError\u001b[0m: (irb):1: syntax error, unexpected `self', expecting ')'\n    def hablar(self):\n               ^~~~\n(irb):4: class definition in method body\nclass Gato:\n^~~~~~~~~~\n(irb):4: syntax error, unexpected ':'\nclass Gato:\n          ^\n(irb):8: class definition in method body\nclass Vaca:\n^~~~~~~~~~\n(irb):8: syntax error, unexpected ':'\nclass Vaca:\n          ^\n(irb):12: syntax error, unexpected ',', expecting `do' for condition or ';' or '\\n'\nfor animal in Perro(), Gato(), Vaca():\n                     ^\n"
     ]
    }
   ],
   "source": [
    "class Perro:\n",
    "    def hablar(self):\n",
    "        print(\"Guau!\")\n",
    "\n",
    "class Gato:\n",
    "    def hablar(self):\n",
    "        print(\"Miau!\")\n",
    "\n",
    "class Vaca:\n",
    "    def hablar(self):\n",
    "        print(\"Muuu!\")\n",
    "\n",
    "for animal in Perro(), Gato(), Vaca():\n",
    "    animal.hablar()\n",
    "    \n",
    "# Guau!\n",
    "# Miau!\n",
    "# Muuu!"
   ]
  },
  {
   "cell_type": "markdown",
   "id": "a2ba553b",
   "metadata": {},
   "source": [
    "### Por que usamos duck typing en Ruby"
   ]
  },
  {
   "cell_type": "markdown",
   "id": "18f96c4f",
   "metadata": {},
   "source": [
    "#### ¿Y por que usamos duck typing en Ruby?\n",
    "\n",
    "Cada valor de un programa está asociado a un tipo. Dependiendo del lenguaje, los tipos de variables se pueden definir de forma estática o dinámica. Ruby se basa en el principio `duck typing`. Entonces, echemos un vistazo a qué son los lenguajes tipificados estática y dinámicamente.\n",
    "\n",
    "En un lenguaje de tipo estático, el tipo de variable es estático. Esto significa que cuando asocia una variable con un tipo, ya no puedes cambiarla. En este caso, escribir está asociado con la variable en lugar del valor al que se refiere.\n",
    "Algunos lenguajes, como C, obligan a que cada variable se asocie con un conjunto de restricciones en el momento de la declaración. Estas restricciones son específicas de cada tipo existente en C.\n",
    "\n"
   ]
  },
  {
   "cell_type": "code",
   "execution_count": null,
   "id": "a8c32034",
   "metadata": {},
   "outputs": [],
   "source": [
    "int main()\n",
    "{\n",
    "  int  x;\n",
    "  \n",
    "  x = \"Hokage\"; //  warning: incompatible pointer to integer conversion assigning to 'int' from 'char [15]' [-Wint-conversion]\n",
    "  return (0);\n",
    "}"
   ]
  },
  {
   "cell_type": "markdown",
   "id": "25384a28",
   "metadata": {},
   "source": [
    "En el programa C anterior, podemos ver que la variable x está asociada al tipo int, para entero. Por lo tanto, este tipo estará asociado con esta variable durante toda su vida. No importa el valor que le asignemos a la variable, el tipo de variable seguirá siendo `int`.\n",
    "\n",
    "En un lenguaje escrito dinámicamente, los tipos de variables son dinámicos. Esto significa que cuando asocias una variable con un tipo, puedes cambiarla cuando quieras. En realidad, escribir está asociado con el valor que asume y no con la variable en sí. Algunos lenguajes, como Python, son lenguajes de tipado dinámico.\n"
   ]
  },
  {
   "cell_type": "code",
   "execution_count": null,
   "id": "d82b9bc9",
   "metadata": {},
   "outputs": [],
   "source": [
    "website = \"rubyPythonJava.com\" # `website` se refiere a string\n",
    "website = True             # `website` se refiero ahora a Booleano "
   ]
  },
  {
   "cell_type": "markdown",
   "id": "cbd5e5b4",
   "metadata": {},
   "source": [
    "¿Y qué pasa con Ruby? Primero, Ruby también es un lenguaje de tipado dinámico. La escritura se define en tiempo de ejecución. No existe una verificación de tipos implícita en Ruby.\n",
    "\n",
    "El `duck typing` se basa en el conocido `Duck Test`, que podemos traducir en Ruby de la siguiente manera:\n",
    "\n",
    "`Si un objeto grazna como un pato (o actúa como un arreglo), simplemente trátelo como un pato (o un arreglo)`.\n",
    "\n",
    "\n",
    "Tengamos un ejemplo para ilustrar la cita anterior."
   ]
  },
  {
   "cell_type": "code",
   "execution_count": 25,
   "id": "9b28c5cd",
   "metadata": {},
   "outputs": [
    {
     "data": {
      "text/plain": [
       "[\"1\", \"2\", \"3\"]"
      ]
     },
     "execution_count": 25,
     "metadata": {},
     "output_type": "execute_result"
    }
   ],
   "source": [
    "a = [1, 2, 3]\n",
    "a.map(&:to_s) # => ['1', '2', '3']"
   ]
  },
  {
   "cell_type": "markdown",
   "id": "86cfb562",
   "metadata": {},
   "source": [
    "Aquí la variable a responde a map  y devuelve el objeto esperado. Entonces es legítimo pensar que una variable es un arreglo.\n",
    "\n",
    "Es decir, desde el punto de vista de `Enumerable`, si una clase tiene un método `each`, debe de ser también una colección, y eso permite que `Enumerable` pueda ofrecer otros métodos implementados en función de `each`. Cuando los programadores de Ruby dicen que una clase “suena como un Array”, suelen querer decir que no tiene por qué ser un `Array` necesariamente, ni uno de sus descendientes, pero responde a la mayoría de los métodos de un `Array` y, por tanto, se puede usar en cualquier parte donde se usaría un `Array`.\n",
    "\n",
    "\n",
    "Veamos otro ejemplo adicional:\n"
   ]
  },
  {
   "cell_type": "code",
   "execution_count": null,
   "id": "acf27dd6",
   "metadata": {},
   "outputs": [],
   "source": [
    "class Amigo\n",
    "  def nombre\n",
    "    \"Yeka\"\n",
    "  end\n",
    "end\n",
    "\n",
    "class Hijo\n",
    "  def nombre\n",
    "    \"Kapumota\"\n",
    "  end\n",
    "end\n",
    "\n",
    "class Padre\n",
    "  def saludo(persona)\n",
    "    \"Hi #{persona.nombre}\"\n",
    "  end\n",
    "end\n"
   ]
  },
  {
   "cell_type": "markdown",
   "id": "b945296d",
   "metadata": {},
   "source": [
    "En el ejemplo anterior, tenemos dos tipos completamente diferentes (`Amigo` e `Hijo`) que responden al mismo mensaje (es decir, tienen una interfaz común), el mensaje de nombre. Es decir los tipos Duck son interfaces públicas que no están vinculadas a ninguna clase específica."
   ]
  },
  {
   "cell_type": "code",
   "execution_count": 26,
   "id": "0870f355",
   "metadata": {},
   "outputs": [
    {
     "name": "stdout",
     "output_type": "stream",
     "text": [
      "Pato grazna\n",
      "Ganso grazna\n",
      "Pato nada\n",
      "Ganso nada\n"
     ]
    },
    {
     "data": {
      "text/plain": [
       "[#<#<Class:0x000001e9db8be928>::Pato:0x000001e9db165e60>, #<#<Class:0x000001e9db8be928>::Ganso:0x000001e9db165028>]"
      ]
     },
     "execution_count": 26,
     "metadata": {},
     "output_type": "execute_result"
    }
   ],
   "source": [
    "class Pato\n",
    "  def graznar\n",
    "    puts 'Pato grazna'\n",
    "  end\n",
    "  def nadar\n",
    "    puts 'Pato nada'\n",
    "  end\n",
    "end\n",
    "\n",
    "class Ganso\n",
    "  def graznar\n",
    "    puts 'Ganso grazna'\n",
    "  end\n",
    "  def nadar\n",
    "    puts 'Ganso nada'\n",
    "  end\n",
    "end \n",
    "\n",
    "class AccionesPajaros\n",
    "  attr_reader :pajaros\n",
    "  def initialize  \n",
    "    @pajaros = []  \n",
    "    pato = Pato.new()  \n",
    "    ganso = Ganso.new()  \n",
    "    @pajaros.push(pato)  \n",
    "    @pajaros.push(ganso)\n",
    "  end\n",
    "def graznar \n",
    "  pajaros.each do | pajaro |    \n",
    "    pajaro.graznar  \n",
    "  end\n",
    "end\n",
    "def nadar  \n",
    "  pajaros.each do | pajaro |   \n",
    "    pajaro.nadar  \n",
    "    end\n",
    "end\n",
    "\n",
    "end\n",
    "accion = AccionesPajaros.new()\n",
    "accion.graznar\n",
    "accion.nadar"
   ]
  },
  {
   "cell_type": "markdown",
   "id": "dabd6a1d",
   "metadata": {},
   "source": [
    "En el ejemplo anterior, tenemos 2 objetos, el primero es `Pato` y el otro es `Ganso` y la tercera clase, que es solo una clase que es un pájaro que agrega y realiza acciones sobre ellos.\n",
    "\n",
    "Ambas clases de aves tienen `2` métodos que son `graznear` y `nadar`.\n",
    "\n",
    "Ahora la parte más interesante, en la clase `AccionesPajaros` estamos creando una instancia de la clase `Pato` y `Ganso` y guardando en un arreglo `pajaros`."
   ]
  },
  {
   "cell_type": "markdown",
   "id": "a8e5e3af",
   "metadata": {},
   "source": [
    "Aquí logramos el modelo del duck typing.\n",
    "\n",
    "Esto se puede lograr en un lenguaje de tipos dinámicos, aquí podemos pasar 2 tipos diferentes de objetos que tienen métodos con el mismo nombre pero que pueden ejecutar comportamientos diferentes según los requisitos. Aquí no tenemos que marcar `kind_of?` (este método verifica la instancia de una clase) ya que comparte los métodos de la interfaz pública. Con esto, logramos la simplicidad del código al evitar declaraciones de condición como `if-else` y `switch`.\n",
    "\n",
    "Un gran poder conlleva una gran responsabilidad, al usar esta increíble característica debemos tener cuidado ya que un compilador no emitirá una alarma cuando llamemos a los métodos públicos de las instancias de clase y nos toparemos con el error o el comportamiento inesperado en el código de producción.\n",
    "\n",
    "Para evitar esto cuando escribes en la interfaz pública, debes documentar y probar su comportamiento, intentar cubrir todos los casos de uso posibles."
   ]
  },
  {
   "cell_type": "markdown",
   "id": "fd98f1fd",
   "metadata": {},
   "source": [
    "### Bloques\n",
    "\n",
    "Los bloques Ruby son funciones anónimas que se pueden pasar a métodos. Los bloques están encerrados entre una instrucción `do-end` o llaves {}. `do-end` se usa generalmente para bloques que abarcan varias líneas, mientras que {} se usa para bloques de una sola línea. Los bloques pueden tener argumentos que deben definirse entre dos tuberías `|` de caracteres.\n",
    "\n",
    "Ruby usa el término bloque de manera diferente a como lo hacen otros lenguajes. En Ruby, un bloque es simplemente un método sin nombre, o una expresión lambda anónima en la terminología de lenguajes de programación. Tiene argumentos y puede usar variables locales, como un método normal con nombre.\n"
   ]
  },
  {
   "cell_type": "code",
   "execution_count": 29,
   "id": "7a0c82db",
   "metadata": {},
   "outputs": [
    {
     "name": "stdout",
     "output_type": "stream",
     "text": [
      "1\n",
      "2\n",
      "3\n"
     ]
    },
    {
     "data": {
      "text/plain": [
       "[1, 2, 3]"
      ]
     },
     "execution_count": 29,
     "metadata": {},
     "output_type": "execute_result"
    }
   ],
   "source": [
    "# Completa\n",
    "[1,2,3].each {|n| puts n}"
   ]
  },
  {
   "cell_type": "code",
   "execution_count": 30,
   "id": "870730f2-b119-42b1-b9ab-33ec78503385",
   "metadata": {},
   "outputs": [
    {
     "name": "stdout",
     "output_type": "stream",
     "text": [
      "1\n",
      "2\n",
      "3\n"
     ]
    },
    {
     "data": {
      "text/plain": [
       "[1, 2, 3]"
      ]
     },
     "execution_count": 30,
     "metadata": {},
     "output_type": "execute_result"
    }
   ],
   "source": [
    "[1,2,3].each do |n|\n",
    "    puts n\n",
    "end"
   ]
  },
  {
   "cell_type": "markdown",
   "id": "49e39309",
   "metadata": {},
   "source": [
    "El método `each` es un iterador disponible en todas las clases de Ruby que son de tipo colección. `each` toma un argumento —un bloque— y pasa cada elemento de la colección al bloque en cada iteración.\n",
    "\n",
    "Un bloque se rodea de las palabras `do` y `end` si el bloque toma argumentos, la lista de argumentos se encierra tras el `do` entre los simbolos `|`.\n"
   ]
  },
  {
   "cell_type": "markdown",
   "id": "43140d95",
   "metadata": {},
   "source": [
    "#### Bloques implícitos y la palabra yield\n",
    "\n",
    "En Ruby, los métodos pueden tomar bloques de forma implícita y explícita. El paso de bloques implícito funciona llamando a la palabra clave `yield` en un método. La palabra clave `yield` es especial. \n",
    "\n",
    "Encuentra y llama a un bloque pasado, por lo que no es necesario agregar el bloque a la lista de argumentos que acepta el método.\n",
    "\n",
    "Debido a que Ruby permite el paso implícito de bloques, puedes llamar a todos los métodos con un bloque. Si no llama a `yield`, el bloque se ignora."
   ]
  },
  {
   "cell_type": "code",
   "execution_count": null,
   "id": "04c26235",
   "metadata": {},
   "outputs": [],
   "source": [
    "\"f1 bar baz\".split { p \"block!\" }"
   ]
  },
  {
   "cell_type": "code",
   "execution_count": null,
   "id": "ea062c2c",
   "metadata": {},
   "outputs": [],
   "source": [
    "def each\n",
    "  return to_enum(:each) unless block_given?\n",
    "\n",
    "  i = 0\n",
    "  while i < size\n",
    "    yield at(i)\n",
    "    i += 1\n",
    "  end\n",
    "end\n"
   ]
  },
  {
   "cell_type": "markdown",
   "id": "3c24a506",
   "metadata": {},
   "source": [
    "Este ejemplo devuelve una instancia de `Enumerator` a menos que se proporcione un bloque.\n",
    "\n",
    "`yield` y `block_given`. Las palabras clave encuentran el bloque en el alcance actual. Esto permite pasar bloques implícitamente, pero evita que el código acceda al bloque directamente ya que no está almacenado en una variable."
   ]
  },
  {
   "cell_type": "code",
   "execution_count": 33,
   "id": "efe64335-0772-4a06-9cfa-fc702791eed7",
   "metadata": {},
   "outputs": [
    {
     "name": "stdout",
     "output_type": "stream",
     "text": [
      "39\n"
     ]
    }
   ],
   "source": [
    "def mi_edad\n",
    "    puts 39\n",
    "end\n",
    "mi_edad()"
   ]
  },
  {
   "cell_type": "code",
   "execution_count": 34,
   "id": "3b288ac3-40d5-4320-b192-a63e5a220e86",
   "metadata": {},
   "outputs": [
    {
     "name": "stdout",
     "output_type": "stream",
     "text": [
      "39\n"
     ]
    }
   ],
   "source": [
    "def mi_edad(edad)\n",
    "    puts edad\n",
    "end\n",
    "mi_edad(39)"
   ]
  },
  {
   "cell_type": "code",
   "execution_count": 43,
   "id": "b4aa0c85-1f2e-4383-b126-9a95c317f63f",
   "metadata": {},
   "outputs": [
    {
     "name": "stdout",
     "output_type": "stream",
     "text": [
      "21\n"
     ]
    }
   ],
   "source": [
    "def mi_edad\n",
    "    if block_given?\n",
    "        yield\n",
    "    else\n",
    "        \"No me diste tu edad\"\n",
    "    end\n",
    "end\n",
    "mi_edad {puts 21}"
   ]
  },
  {
   "cell_type": "code",
   "execution_count": 46,
   "id": "006e8219-4b02-4bbd-a524-9431cd45f387",
   "metadata": {},
   "outputs": [
    {
     "ename": "NoMethodError",
     "evalue": "undefined method `propio_each' for [1, 2, 3]:Array",
     "output_type": "error",
     "traceback": [
      "\u001b[31mNoMethodError\u001b[0m: undefined method `propio_each' for [1, 2, 3]:Array",
      "(irb):8:in `<top (required)>'"
     ]
    }
   ],
   "source": [
    "class Array\n",
    "    def propio_each\n",
    "        for i in self\n",
    "            yield i\n",
    "        end\n",
    "    end\n",
    "end\n",
    "\n",
    "[1,2,3].propio_each{|n| puts n*2}"
   ]
  },
  {
   "cell_type": "markdown",
   "id": "a66d69df",
   "metadata": {},
   "source": [
    "#### Pasar bloques explícitamente\n",
    "\n",
    "Podemos aceptar explícitamente un bloque en un método agregándolo como argumento usando un parámetro ampersand (generalmente llamado `&block`). Dado que el bloque ahora es explícito, podemos usar el método `#call` directamente en el objeto resultante en lugar de depender de `yield`.\n",
    "\n",
    "El argumento `&block` no es un argumento adecuado, por lo que llamar a este método con cualquier otra cosa que no sea un bloque producirá un `ArgumentError`."
   ]
  },
  {
   "cell_type": "code",
   "execution_count": null,
   "id": "ca3b5520",
   "metadata": {},
   "outputs": [],
   "source": [
    "def each_explicit(&block)\n",
    "  return to_enum(:each) unless block\n",
    "\n",
    "  i = 0\n",
    "  while i < size\n",
    "    block.call at(i)\n",
    "    i += 1\n",
    "  end\n",
    "end\n"
   ]
  },
  {
   "cell_type": "markdown",
   "id": "1ba4a1f5",
   "metadata": {},
   "source": [
    "Cuando un bloque se pasa así y se almacena en una variable, se convierte automáticamente en un `proc`."
   ]
  },
  {
   "cell_type": "markdown",
   "id": "edc6cd4a",
   "metadata": {},
   "source": [
    "#### Proc\n",
    "\n",
    "Un `proc` es una instancia de la clase `Proc`, que contiene un bloque de código para ejecutar y puede almacenarse en una variable. Para crear un `proc`, llamas a `Proc.new` y le pasas un bloque."
   ]
  },
  {
   "cell_type": "code",
   "execution_count": null,
   "id": "60de0563",
   "metadata": {},
   "outputs": [],
   "source": [
    "proc = Proc.new { |n| puts \"#{n}!\" }"
   ]
  },
  {
   "cell_type": "markdown",
   "id": "fa59c7a7",
   "metadata": {},
   "source": [
    "Dado que un `proc` se puede almacenar en una variable, también se puede pasar a un método como un argumento normal. En ese caso, no usamos el signo ampersand, ya que `proc` se pasa explícitamente.\n"
   ]
  },
  {
   "cell_type": "code",
   "execution_count": 47,
   "id": "e90c47d5",
   "metadata": {},
   "outputs": [
    {
     "data": {
      "text/plain": [
       "#<Proc:0x000001e9dc4a7960 (irb):3>"
      ]
     },
     "execution_count": 47,
     "metadata": {},
     "output_type": "execute_result"
    }
   ],
   "source": [
    "def correr_proc_numeros_aleatorios(proc)\n",
    "  proc.call(random)\n",
    "end\n",
    "proc = Proc.new { |n| puts \"#{n}!\" }\n",
    "#correr_proc_numeros_aleatorios(proc)\n"
   ]
  },
  {
   "cell_type": "markdown",
   "id": "9c78a8a0",
   "metadata": {},
   "source": [
    "En lugar de crear un `proc` y pasarlo al método, puedes usar la sintaxis del parámetro ampersanf de Ruby que vimos anteriormente y usar un bloque en su lugar."
   ]
  },
  {
   "cell_type": "code",
   "execution_count": null,
   "id": "cf715891",
   "metadata": {},
   "outputs": [],
   "source": [
    "def correr_proc_numeros_aleatorios(&proc)\n",
    "  proc.call(random)\n",
    "end\n",
    "#correr_proc_numeros_aleatorios{ |n| puts \"#{n}!\" }"
   ]
  },
  {
   "cell_type": "markdown",
   "id": "ed711189",
   "metadata": {},
   "source": [
    "Ten en cuenta el signo ampersand agregado al argumento en el método. Esto convertirá un bloque pasado en un objeto `proc` y lo almacenará en una variable en el alcance del método.\n",
    "\n",
    "Consejo: Si bien es útil tener el `proc` en el método en algunas situaciones, la conversión de un bloque a un proceso produce un impacto en el rendimiento. Siempre que sea posible, utiliza bloques implícitos."
   ]
  },
  {
   "cell_type": "markdown",
   "id": "672f706e",
   "metadata": {},
   "source": [
    "**#to_proc**\n",
    "\n",
    "Los símbolos, hashes y métodos se pueden convertir en `procs` utilizando sus métodos `#to_proc`. Un uso frecuente de esto es pasar un `proc` creado a partir de un símbolo a un método."
   ]
  },
  {
   "cell_type": "code",
   "execution_count": null,
   "id": "4a7a91c7",
   "metadata": {},
   "outputs": [],
   "source": [
    "[1,2,3].map(&:to_s)\n",
    "[1,2,3].map {|i| i.to_s }\n",
    "[1,2,3].map {|i| i.send(:to_s) }\n"
   ]
  },
  {
   "cell_type": "markdown",
   "id": "2ee46458",
   "metadata": {},
   "source": [
    "Este ejemplo muestra tres formas equivalentes de llamar a `#to_s` en cada elemento del arreglo. En el primero, se pasa un símbolo, precedido de un signo ampersand, que lo convierte automáticamente en un `proc` llamando a su método `#to_proc`. Los dos últimos muestran cómo podría verse ese `proc`."
   ]
  },
  {
   "cell_type": "code",
   "execution_count": null,
   "id": "ce94bb49",
   "metadata": {},
   "outputs": [],
   "source": [
    "class Symbol\n",
    "  def to_proc\n",
    "    Proc.new { |i| i.send(self) }\n",
    "  end\n",
    "end\n"
   ]
  },
  {
   "cell_type": "markdown",
   "id": "0459ae06",
   "metadata": {},
   "source": [
    "Aunque este es un ejemplo simplificado, la implementación de `Symbol#to_proc` muestra lo que sucede debajo. El método devuelve un `proc` que toma un argumento y le envía `self`. Dado que `self` es el símbolo en este contexto, llama al método `Integer#to_s`.\n"
   ]
  },
  {
   "cell_type": "markdown",
   "id": "180e0ec1",
   "metadata": {},
   "source": [
    "#### Lambdas\n",
    "\n",
    "Las lambdas son esencialmente `proc` con algunos factores distintivos. Se parecen más a métodos \"normales\" en dos sentidos: imponen el número de argumentos pasados cuando se les llama y utilizan retornos \"normales\".\n",
    "\n",
    "Cuando se llama a una lambda que espera un argumento sin uno, o si se pasa un argumento a una lambda que no lo espera, Ruby genera un `ArgumentError`."
   ]
  },
  {
   "cell_type": "code",
   "execution_count": null,
   "id": "561dd37c",
   "metadata": {},
   "outputs": [],
   "source": [
    "#lambda (a) { a }.call\n"
   ]
  },
  {
   "cell_type": "markdown",
   "id": "c2b5ee47",
   "metadata": {},
   "source": [
    "Además, una lambda trata la palabra clave `return` de la misma manera que lo hace un método. Al llamar a un `proc`, el programa cede el control al bloque de código en el `proc`. Entonces, si el `proc` regresa, regresa el alcance actual. Si se llama a un `proc` dentro de una función y las llamadas regresan, la función también regresa inmediatamente."
   ]
  },
  {
   "cell_type": "code",
   "execution_count": 48,
   "id": "1cbb63e1",
   "metadata": {},
   "outputs": [
    {
     "data": {
      "text/plain": [
       "10"
      ]
     },
     "execution_count": 48,
     "metadata": {},
     "output_type": "execute_result"
    }
   ],
   "source": [
    "def return_desde_proc\n",
    "  a = Proc.new { return 10 }.call\n",
    "  puts \"Esto no deberia ser impreso.\"\n",
    "end\n",
    "return_desde_proc"
   ]
  },
  {
   "cell_type": "markdown",
   "id": "fff48025",
   "metadata": {},
   "source": [
    "Esta función cederá el control al `proc`, por lo que cuando regresa, la función regresa. Llamar a la función en este ejemplo nunca imprimirá el resultado."
   ]
  },
  {
   "cell_type": "code",
   "execution_count": 49,
   "id": "3b4aa173",
   "metadata": {},
   "outputs": [
    {
     "name": "stdout",
     "output_type": "stream",
     "text": [
      "La lambda  retorna  10 y debe ser impreso.\n"
     ]
    }
   ],
   "source": [
    "def return_desde_lambda\n",
    "  a = lambda { return 10 }.call\n",
    "  puts \"La lambda  retorna  #{a} y debe ser impreso.\"\n",
    "end\n",
    "return_desde_lambda"
   ]
  },
  {
   "cell_type": "markdown",
   "id": "8f55b454",
   "metadata": {},
   "source": [
    "Cuando se utiliza una lambda, se imprimirá. Llamar a `return` en lambda se comportará como llamar a `return` en un método, por lo que la variable a se completa con `10` y la línea se imprime en la consola."
   ]
  },
  {
   "cell_type": "markdown",
   "id": "aed41d90",
   "metadata": {},
   "source": [
    "Para demostrar lo importantes que son los bloques Ruby, comencemos con el siguiente ejemplo:"
   ]
  },
  {
   "cell_type": "code",
   "execution_count": null,
   "id": "15e54a4c",
   "metadata": {},
   "outputs": [],
   "source": [
    "# Completa"
   ]
  },
  {
   "cell_type": "markdown",
   "id": "c204ec09",
   "metadata": {},
   "source": [
    "### Modo poético\n",
    "\n",
    "Un método se define con `def nombre_metodo(arg1,arg2)` y termina con `end`; todas las sentencias entre medias corresponden a la definición del método. En Ruby, toda expresión tiene un valor, por ejemplo, el valor de una asignación es el valor de su lado derecho, así que el valor de `x=5` es `5` y si un método no incluye un `return(algo)` explícitamente, lo que se devuelve es el valor de la última expresión del método. \n",
    "\n",
    "El siguiente método trivial devuelve `5`:"
   ]
  },
  {
   "cell_type": "code",
   "execution_count": 50,
   "id": "d828dae7",
   "metadata": {},
   "outputs": [
    {
     "data": {
      "text/plain": [
       ":trivial_method"
      ]
     },
     "execution_count": 50,
     "metadata": {},
     "output_type": "execute_result"
    }
   ],
   "source": [
    "def trivial_method    # sin argumentps; se puede usar trivial_method()\n",
    "  x = 5\n",
    "end\n",
    "#trivial_method"
   ]
  },
  {
   "cell_type": "markdown",
   "id": "55d0e7c9",
   "metadata": {},
   "source": [
    "La variable `x` en el ejemplo es una variable local; su ámbito se limita al bloque donde está definida, en este caso al método, y se considera indefinida fuera de ese método. En otras palabras, Ruby usa ámbito léxico para variables locales. \n",
    "\n",
    "Vemos cómo las variables de clase y de instancia son alternativas a las variables locales.\n",
    "\n",
    "\n",
    "En Ruby, una expresión idiomática importante es la conocida como **modo poético**: la habilidad de omitir paréntesis y llaves cuando el análisis sintáctico no va a ser ambiguo. La mayoría de las veces los programadores en Ruby pueden omitir los paréntesis que rodean a los argumentos en la llamada a un método, y omitir llaves cuando el último argumento en la llamada a un método es una hash. \n",
    "\n",
    "Dada esta característica, las siguientes dos llamadas a método son equivalentes, dado el método `link_to` (que  que toma un argumento de tipo cadena de caracteres y un argumento de tipo hash:"
   ]
  },
  {
   "cell_type": "code",
   "execution_count": null,
   "id": "e1744790",
   "metadata": {},
   "outputs": [],
   "source": [
    "#link_to('Edit', {:controller => 'students', :action => 'edit'})\n",
    "#link_to 'Edit',  :controller => 'students', :action => 'edit'"
   ]
  },
  {
   "cell_type": "code",
   "execution_count": 51,
   "id": "e723348f-3fe8-4a35-b145-952762394ae9",
   "metadata": {},
   "outputs": [
    {
     "name": "stdout",
     "output_type": "stream",
     "text": [
      "CC3S2 es el mejor curso por los estudiantes\n"
     ]
    }
   ],
   "source": [
    "puts \"CC3S2 es el mejor curso por los estudiantes\";"
   ]
  },
  {
   "cell_type": "code",
   "execution_count": 52,
   "id": "9734bca0-f360-4aef-865d-b5b48cd6d2d5",
   "metadata": {},
   "outputs": [
    {
     "name": "stdout",
     "output_type": "stream",
     "text": [
      "CC3S2 es el mejor curso por los muchachos\n"
     ]
    }
   ],
   "source": [
    "puts \"CC3S2 es el mejor curso por los muchachos\""
   ]
  },
  {
   "cell_type": "code",
   "execution_count": null,
   "id": "6396e0bb-ab40-4533-a1f4-b307e0aad95b",
   "metadata": {},
   "outputs": [],
   "source": [
    "# Metodo explicito\n",
    "def metodo1\n",
    "    suma = 3 + 4\n",
    "    return suma\n",
    "end\n",
    "#Metodo implicito\n",
    "def metodo2\n",
    "    3+4\n",
    "end #metodo poetico\n"
   ]
  },
  {
   "cell_type": "markdown",
   "id": "a6db1f93",
   "metadata": {},
   "source": [
    "Aunque los paréntesis alrededor de los argumentos de un método son opcionales, tanto en la definición del método como cuando es invocado, el número de argumentos sí importa, y se lanza una excepción si se llama a un método con un número incorrecto de argumentos. \n",
    "\n",
    "El siguiente extracto de código muestra expresiones idiomáticas que puede usar cuando necesite mayor flexibilidad. El primero es hacer que el último argumento sea una hash y darle el valor `{}` por defecto (hash vacía). El segundo es usar un asterisco `(*)`, que recoge cualquier argumento adicional en un arreglo. \n",
    "\n",
    "Como con muchas expresiones idiomáticas en Ruby, la elección correcta es aquella que ofrece el código más legible."
   ]
  },
  {
   "cell_type": "code",
   "execution_count": null,
   "id": "2d0db661",
   "metadata": {},
   "outputs": [],
   "source": [
    "# \n",
    "def metodo1(required_arg, args={})\n",
    "  do_fancy_stuff if args[:fancy]\n",
    "end\n",
    "\n",
    "metodo1 \"f1\",:fancy => true # => args={:fancy => true}\n",
    "metodo1 \"f1\"                # => args={}\n",
    "\n",
    "# Otro forma\n",
    "def metodo1(required_arg, *args)\n",
    "  # args es un arreglo de extra args, tal vez vacio\n",
    "end\n",
    "\n",
    "metodo1 \"f1\",\"bar\",:fancy => true # => args=[\"bar\",{:fancy=>true}]\n",
    "metodo1 \"foo\"                      # => args=[]"
   ]
  },
  {
   "cell_type": "markdown",
   "id": "3ac9e861",
   "metadata": {},
   "source": [
    "### Deficiencias de POO\n",
    "\n",
    "Las deficiencias de la programación orientada a objetos son conceptuales, estilísticas y arquitectónicas.  Además, el diseño orientado a objetos puede ser detallado.  Los programas frecuentemente serán más grandes de lo que nosotros, como programadores, pensábamos originalmente. \n",
    "\n",
    "En consecuencia, la eficiencia y el rendimiento del programa pueden verse afectados debido a su propio tamaño y arquitectura. Incluso, la herencia, una de las características que definen la programación orientada a objetos, tiene sus deficiencias en ciertos casos extremos en los que un miembro de una familia de clases tiene o carece de ciertos atributos comunes a su propia jerarquía, pero que comparte con otra clase no relacionada.\n",
    "\n",
    "Afortunadamente, existen estrategias y características que se pueden utilizar para reducir el tamaño del programa, reducir la repetición de código repetitivo y contener la lógica de los componentes. "
   ]
  },
  {
   "cell_type": "markdown",
   "id": "4c8f05eb",
   "metadata": {},
   "source": [
    "### Proc\n",
    "\n",
    "Un proc es un objeto que encapsula un bloque y por tanto aumentan la modularidad del código y reducen la repetición. \n",
    "\n",
    "Los procs se pueden crear de varias maneras, nos centraremos en la sintaxis del constructor de la clase `Proc`. Este código es similar a otros constructores, sin embargo, ten en cuenta el uso de llaves que producen un tipo de datos Proc, como se muestra a continuación:"
   ]
  },
  {
   "cell_type": "code",
   "execution_count": null,
   "id": "1971bf27",
   "metadata": {},
   "outputs": [],
   "source": [
    "x = Proc.new {}\n",
    "puts x.inspect"
   ]
  },
  {
   "cell_type": "markdown",
   "id": "48ef69bc",
   "metadata": {},
   "source": [
    "Una forma de utilizar `procs` es sustituir bloques de código pequeños y repetitivos. Por ejemplo, si tienes un objeto en un programa y tiene que iterar a través del objeto para realizar una tarea repetitiva, podría usar un proceso para hacer que su código sea más DRY:\n"
   ]
  },
  {
   "cell_type": "code",
   "execution_count": null,
   "id": "5f05529d",
   "metadata": {},
   "outputs": [],
   "source": [
    "# Completa"
   ]
  },
  {
   "cell_type": "markdown",
   "id": "cfecca30",
   "metadata": {},
   "source": [
    "En este caso, la tarea repetitiva fue multiplicar el número en el arreglo por 4. Ten en cuenta el uso del signo  '&', que te permite a Ruby saber que 'x' no es una variable cualquiera, sino una especial. Aquí hay otro ejemplo a continuación:"
   ]
  },
  {
   "cell_type": "code",
   "execution_count": null,
   "id": "500e61ce",
   "metadata": {},
   "outputs": [],
   "source": [
    "x = Proc.new { |word| word.length > 6 && word.length % 2 == 0 }\n",
    "long_words = ['apple', 'wisdom', 'anonymous', 'elementary', 'monitor', 'computer', 'available', 'independence']\n",
    "puts long_words.select &x"
   ]
  },
  {
   "cell_type": "markdown",
   "id": "f1f33703",
   "metadata": {},
   "source": [
    "En el ejemplo anterior, el `proc` se utiliza para sustituir el bloque esperado por el método `.each`. Además, también puedes pasar `procs`  a métodos e invocarlos usando su método `.call`:"
   ]
  },
  {
   "cell_type": "code",
   "execution_count": null,
   "id": "68c1b9cf",
   "metadata": {},
   "outputs": [],
   "source": [
    "# Completa"
   ]
  },
  {
   "cell_type": "markdown",
   "id": "563e25fe",
   "metadata": {},
   "source": [
    "Además, puede crear un método personalizado con funcionalidad de bloque personalizado, como se detalla a continuación:"
   ]
  },
  {
   "cell_type": "code",
   "execution_count": null,
   "id": "93410fa2",
   "metadata": {},
   "outputs": [],
   "source": [
    "## Completa"
   ]
  },
  {
   "cell_type": "markdown",
   "id": "b4537cc6",
   "metadata": {},
   "source": [
    "Y si se siente peligroso, los `procs` pueden incluso usarse para cortocircuitar algunas conversiones de tipos de datos y la lógica del iterador. Según la documentación de Ruby, esto se debe a que \"cualquier objeto que implemente el método `.to_proc` puede ser convertido en un `proc` por el operador '&' y, por lo tanto, puede ser consumido por iteradores\". De las clases principales de Ruby, Símbolos, Métodos y Hashes implementan el método `.to_proc`.\n",
    "\n",
    "Revisa: https://docs.ruby-lang.org/en/3.2/Proc.html"
   ]
  },
  {
   "cell_type": "code",
   "execution_count": null,
   "id": "368c7794",
   "metadata": {},
   "outputs": [],
   "source": [
    "arr = [\"1\", \"2\", \"3\"]\n",
    "puts arr.map &:to_i #=> 1, 2, 3\n",
    "arr = [\"Danger's\", \"my\", \"middle\", \"name\"]\n",
    "puts arr.map &:upcase "
   ]
  },
  {
   "cell_type": "markdown",
   "id": "ca53793f",
   "metadata": {},
   "source": [
    "Los procs se pueden utilizar para simplificar el código a nivel de bloque y utilizar variables con un alcance local. Aún más importante, los `procs` son la implementación de [clousure](https://www.section.io/engineering-education/understanding-closures-in-ruby/) de Ruby que les permiten recordar el contexto en el que fueron creados. \n"
   ]
  },
  {
   "cell_type": "markdown",
   "id": "a52dcbda",
   "metadata": {},
   "source": [
    "### Módulos \n",
    "\n",
    "Los módulos son una excelente manera de proporcionar estado y comportamiento adicionales a las clases sin tener que preocuparse por la cadena de herencia y sobrescribir otros métodos. Los métodos proporcionan acceso a métodos y constantes definidas dentro de la declaración del módulo. \n",
    "\n",
    "Los módulos brindan soporte tanto para métodos a nivel de instancia como para métodos a nivel de módulo, pero las clases que incluyen o usan el comportamiento de los módulos solo tienen acceso a los métodos a nivel de instancia. Por el contrario, se puede acceder a los métodos a nivel de módulo directamente en el objeto `Module`.\n",
    "\n",
    "Si bien los beneficios de la herencia orientada a objetos están bien documentados, también cabe señalar que existen algunos límites debido a la verticalidad de la cadena de herencia. De hecho, las clases heredan de sus clases antecesoras y replican la funcionalidad en sus clases hijas, pero no tienen una forma nativa de compartir estado y comportamiento con clases no relacionadas.  Envolver el comportamiento de esta manera y compartirlo entre clases dispares es un uso común de los módulos.\n"
   ]
  },
  {
   "cell_type": "code",
   "execution_count": null,
   "id": "099b9823",
   "metadata": {},
   "outputs": [],
   "source": [
    "class Superhero\n",
    "    def heroe1(super_checha)\n",
    "        puts \"Hey estudia Ruby, sino ... #{super_checha}\"\n",
    "    end\n",
    "end\n",
    "\n",
    " # completa"
   ]
  },
  {
   "cell_type": "markdown",
   "id": "e3b1d430",
   "metadata": {},
   "source": [
    "Genial, llegamos a los superhéroes. A continuación, equipemos algunos de ellos y creemos un módulo de Industrias Stark que solo algunos superhéroes podrán usar:"
   ]
  },
  {
   "cell_type": "code",
   "execution_count": null,
   "id": "6b8db8a1",
   "metadata": {},
   "outputs": [],
   "source": [
    "module Stark\n",
    " # Completa"
   ]
  },
  {
   "cell_type": "markdown",
   "id": "6f4c399a",
   "metadata": {},
   "source": [
    "Ahora es el momento de crear esos superhéroes y mostrar cómo un módulo puede proporcionar acceso a comportamientos fuera de la herencia basada en clases.\n"
   ]
  },
  {
   "cell_type": "code",
   "execution_count": null,
   "id": "0be8de38",
   "metadata": {},
   "outputs": [],
   "source": [
    "class Spiderman < Superhero   \n",
    "  include Stark\n",
    "end\n",
    "class Ironman < Superhero\n",
    "  include Stark\n",
    "end\n",
    "\n",
    "spidey = Spiderman.new \n",
    "iron = Ironman.new\n",
    "# Completa"
   ]
  },
  {
   "cell_type": "code",
   "execution_count": null,
   "id": "f5247c00",
   "metadata": {},
   "outputs": [],
   "source": [
    "## Completa"
   ]
  },
  {
   "cell_type": "markdown",
   "id": "b2a1d5fa",
   "metadata": {},
   "source": [
    "A diferencia de la sintaxis de herencia de clases,  los módulos se importan dentro del cuerpo de la clase utilizando la palabra clave `include`. Los módulos se convierten en una forma práctica de compartir comportamientos entre clases para superar las restricciones de la herencia.\n"
   ]
  },
  {
   "cell_type": "markdown",
   "id": "a6dfb93e",
   "metadata": {},
   "source": [
    "#### Mixins\n",
    "\n",
    "Un mixin es simplemente agregar acceso a múltiples módulos dentro de `Class`. Dado que Ruby no admite herencia múltiple, podemos usar varios módulos para mezclarlos en -léase Mixin- una subclase. Funcionalmente, los mixins proporcionan la extensibilidad y modularidad que la herencia múltiple ofrece a otros lenguajes. Por lo tanto, si bien Ruby no proporciona todas las características de programación orientada a objetos que implementan otros lenguajes, los mixins logran esta funcionalidad y son un ejemplo clásico de duck typing dentro de Ruby, que vimos anteriormente.\n",
    "\n",
    "Hay varios métodos que no son parte de la clase `Array` de Ruby. De hecho, ni siquiera forman parte de ninguna superclase de la que hereden `Array` y otros tipos de colecciones. En cambio, aprovechan un mecanismo de reutilización aún más poderoso: lo que ya definimos un mix-ins, una colección con nombre de métodos relacionados que se pueden agregar a cualquier clase que cumpla algún \"contrato\" con los métodos mix-ins.\n",
    "\n",
    "\n",
    "La clase que implementa algún conjunto de comportamientos característico de otra clase, posiblemente usando algún mixin, se suele decir que `suena como` la clase a la que se parece. El esquema de Ruby para permitir un mixin sin comprobación estática de tipos se le suele denominar tipado dinámico."
   ]
  },
  {
   "cell_type": "code",
   "execution_count": null,
   "id": "288604a5",
   "metadata": {},
   "outputs": [],
   "source": []
  }
 ],
 "metadata": {
  "kernelspec": {
   "display_name": "Ruby 3.2.2",
   "language": "ruby",
   "name": "ruby"
  },
  "language_info": {
   "file_extension": ".rb",
   "mimetype": "application/x-ruby",
   "name": "ruby",
   "version": "3.2.2"
  }
 },
 "nbformat": 4,
 "nbformat_minor": 5
}
